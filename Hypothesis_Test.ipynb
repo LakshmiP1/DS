{
  "nbformat": 4,
  "nbformat_minor": 0,
  "metadata": {
    "kernelspec": {
      "display_name": "Python 3",
      "language": "python",
      "name": "python3"
    },
    "language_info": {
      "codemirror_mode": {
        "name": "ipython",
        "version": 3
      },
      "file_extension": ".py",
      "mimetype": "text/x-python",
      "name": "python",
      "nbconvert_exporter": "python",
      "pygments_lexer": "ipython3",
      "version": "3.7.4"
    },
    "colab": {
      "provenance": [],
      "include_colab_link": true
    },
    "accelerator": "GPU"
  },
  "cells": [
    {
      "cell_type": "markdown",
      "metadata": {
        "id": "view-in-github",
        "colab_type": "text"
      },
      "source": [
        "<a href=\"https://colab.research.google.com/github/LakshmiP1/DS/blob/main/Hypothesis_Test.ipynb\" target=\"_parent\"><img src=\"https://colab.research.google.com/assets/colab-badge.svg\" alt=\"Open In Colab\"/></a>"
      ]
    },
    {
      "cell_type": "code",
      "metadata": {
        "id": "lUamWcSv9Iy7"
      },
      "source": [
        "#import the libraries\n",
        "import pandas as pd\n",
        "import scipy \n",
        "import numpy as np\n",
        "from scipy import stats"
      ],
      "execution_count": 1,
      "outputs": []
    },
    {
      "cell_type": "markdown",
      "metadata": {
        "id": "EZmTWLBk9IzE"
      },
      "source": [
        "# Super Market example"
      ]
    },
    {
      "cell_type": "code",
      "metadata": {
        "colab": {
          "base_uri": "https://localhost:8080/"
        },
        "id": "EbPWfEp49IzF",
        "outputId": "c29013db-6892-4ab8-bf02-a598d581ad26"
      },
      "source": [
        "stats.t.cdf(2.23,df=79)"
      ],
      "execution_count": 2,
      "outputs": [
        {
          "output_type": "execute_result",
          "data": {
            "text/plain": [
              "0.9857070911974259"
            ]
          },
          "metadata": {},
          "execution_count": 2
        }
      ]
    },
    {
      "cell_type": "markdown",
      "metadata": {
        "id": "1mULoszZ9IzG"
      },
      "source": [
        "# Call Center example"
      ]
    },
    {
      "cell_type": "code",
      "metadata": {
        "colab": {
          "base_uri": "https://localhost:8080/"
        },
        "id": "jd571TPa9IzH",
        "outputId": "2ce8058f-2f05-47e1-f60c-23b6e91824e5"
      },
      "source": [
        "(4-4.6)/(3/np.sqrt(50))"
      ],
      "execution_count": 3,
      "outputs": [
        {
          "output_type": "execute_result",
          "data": {
            "text/plain": [
              "-1.4142135623730943"
            ]
          },
          "metadata": {},
          "execution_count": 3
        }
      ]
    },
    {
      "cell_type": "code",
      "metadata": {
        "colab": {
          "base_uri": "https://localhost:8080/"
        },
        "id": "ccJtViUf9IzH",
        "outputId": "e52536a7-08e1-4d3c-d244-6b5e2206262b"
      },
      "source": [
        "p=2*stats.t.cdf(-1.41,df=49)\n",
        "p"
      ],
      "execution_count": 6,
      "outputs": [
        {
          "output_type": "execute_result",
          "data": {
            "text/plain": [
              "0.1648559451804547"
            ]
          },
          "metadata": {},
          "execution_count": 6
        }
      ]
    },
    {
      "cell_type": "markdown",
      "metadata": {
        "id": "X44BOLSY9IzI"
      },
      "source": [
        "# One tail test"
      ]
    },
    {
      "cell_type": "code",
      "metadata": {
        "id": "5AdMc91m9IzJ"
      },
      "source": [
        "data=pd.Series([0.593, 0.142, 0.329, 0.691, 0.231, 0.793, 0.519, 0.392, 0.418])"
      ],
      "execution_count": 8,
      "outputs": []
    },
    {
      "cell_type": "code",
      "metadata": {
        "id": "F7kKghKC9IzJ"
      },
      "source": [
        "#This gives two tail test p value so divide by 2 to get final p-value\n",
        "p=scipy.stats.ttest_1samp(data,0.3)[1]\n",
        "p_value= p/2"
      ],
      "execution_count": 9,
      "outputs": []
    },
    {
      "cell_type": "code",
      "source": [
        "p_value"
      ],
      "metadata": {
        "colab": {
          "base_uri": "https://localhost:8080/"
        },
        "id": "ZO9ut68nNSl1",
        "outputId": "0ceb98eb-7fd0-44e5-b569-1a4c87f56c17"
      },
      "execution_count": 10,
      "outputs": [
        {
          "output_type": "execute_result",
          "data": {
            "text/plain": [
              "0.029265164842448826"
            ]
          },
          "metadata": {},
          "execution_count": 10
        }
      ]
    },
    {
      "cell_type": "markdown",
      "metadata": {
        "id": "OQcLaxKQ9IzK"
      },
      "source": [
        "# Two Tail test"
      ]
    },
    {
      "cell_type": "code",
      "metadata": {
        "id": "2H86Jc5K9IzK"
      },
      "source": [
        "Control=pd.Series([91, 87, 99, 77, 88, 91])\n",
        "Treat =pd.Series([101, 110, 103, 93, 99, 104])  \n"
      ],
      "execution_count": 11,
      "outputs": []
    },
    {
      "cell_type": "code",
      "metadata": {
        "id": "PRp0EbAK9IzK",
        "outputId": "fd01a6e0-b4a3-4ea8-f1db-f17a887f57b0",
        "colab": {
          "base_uri": "https://localhost:8080/"
        }
      },
      "source": [
        "stats.ttest_ind( Control,Treat)"
      ],
      "execution_count": 12,
      "outputs": [
        {
          "output_type": "execute_result",
          "data": {
            "text/plain": [
              "Ttest_indResult(statistic=-3.445612673536487, pvalue=0.006272124350809803)"
            ]
          },
          "metadata": {},
          "execution_count": 12
        }
      ]
    },
    {
      "cell_type": "markdown",
      "metadata": {
        "id": "94BexGGD9IzL"
      },
      "source": [
        "# 2 Proportion Test"
      ]
    },
    {
      "cell_type": "code",
      "metadata": {
        "id": "zYXEJkmZ9IzL"
      },
      "source": [
        "import numpy as np"
      ],
      "execution_count": 13,
      "outputs": []
    },
    {
      "cell_type": "code",
      "metadata": {
        "id": "6NHBJpRp9IzL"
      },
      "source": [
        "#Data:\n",
        "\n",
        "n1 = 247\n",
        "p1 = .37\n",
        "\n",
        "n2 = 308\n",
        "p2 = .39"
      ],
      "execution_count": 14,
      "outputs": []
    },
    {
      "cell_type": "code",
      "metadata": {
        "id": "p5gM6Lar9IzM"
      },
      "source": [
        "population1 = np.random.binomial(1, p1, n1)\n",
        "population2 = np.random.binomial(1, p2, n2)"
      ],
      "execution_count": 15,
      "outputs": []
    },
    {
      "cell_type": "code",
      "metadata": {
        "id": "347rAHWH9IzM",
        "outputId": "9cd2e51d-c814-4637-dd8c-5de7fcce7120",
        "colab": {
          "base_uri": "https://localhost:8080/"
        }
      },
      "source": [
        "population1.mean()"
      ],
      "execution_count": 16,
      "outputs": [
        {
          "output_type": "execute_result",
          "data": {
            "text/plain": [
              "0.42105263157894735"
            ]
          },
          "metadata": {},
          "execution_count": 16
        }
      ]
    },
    {
      "cell_type": "code",
      "metadata": {
        "id": "ikgv7zTZ9IzN"
      },
      "source": [
        "population2"
      ],
      "execution_count": null,
      "outputs": []
    },
    {
      "cell_type": "code",
      "metadata": {
        "id": "cOKI7ZtV9IzO",
        "outputId": "f6ee783f-d6b8-4e81-d6bb-4c3889c742c7",
        "colab": {
          "base_uri": "https://localhost:8080/"
        }
      },
      "source": [
        "import statsmodels.api as sm\n",
        "sm.stats.ttest_ind(population1, population2)"
      ],
      "execution_count": 18,
      "outputs": [
        {
          "output_type": "execute_result",
          "data": {
            "text/plain": [
              "(0.7493458054300065, 0.4539674426244563, 553.0)"
            ]
          },
          "metadata": {},
          "execution_count": 18
        }
      ]
    },
    {
      "cell_type": "code",
      "metadata": {
        "id": "lLaD7lEn9IzP"
      },
      "source": [],
      "execution_count": null,
      "outputs": []
    }
  ]
}