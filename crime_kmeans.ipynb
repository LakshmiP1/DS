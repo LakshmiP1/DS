{
  "nbformat": 4,
  "nbformat_minor": 0,
  "metadata": {
    "colab": {
      "provenance": [],
      "authorship_tag": "ABX9TyOG1PW+YlHM2CjDHOYIfuQW",
      "include_colab_link": true
    },
    "kernelspec": {
      "name": "python3",
      "display_name": "Python 3"
    },
    "language_info": {
      "name": "python"
    }
  },
  "cells": [
    {
      "cell_type": "markdown",
      "metadata": {
        "id": "view-in-github",
        "colab_type": "text"
      },
      "source": [
        "<a href=\"https://colab.research.google.com/github/LakshmiP1/DS/blob/main/crime_kmeans.ipynb\" target=\"_parent\"><img src=\"https://colab.research.google.com/assets/colab-badge.svg\" alt=\"Open In Colab\"/></a>"
      ]
    },
    {
      "cell_type": "code",
      "execution_count": null,
      "metadata": {
        "id": "tZzlDcdHzA_f"
      },
      "outputs": [],
      "source": [
        "import pandas as pd\n",
        "import numpy as np\n",
        "import matplotlib.pyplot as plt\n",
        "from sklearn.cluster import KMeans"
      ]
    },
    {
      "cell_type": "code",
      "source": [
        "crime=pd.read_csv(\"crime data.csv\")"
      ],
      "metadata": {
        "id": "0MK_Tfi9zsAZ"
      },
      "execution_count": null,
      "outputs": []
    },
    {
      "cell_type": "code",
      "source": [
        "crime"
      ],
      "metadata": {
        "id": "2OwFLr24zzDe"
      },
      "execution_count": null,
      "outputs": []
    },
    {
      "cell_type": "code",
      "source": [
        "# Normalization function \n",
        "from sklearn.preprocessing import StandardScaler\n",
        "scaler = StandardScaler()\n",
        "scaled_Crime_df = scaler.fit_transform(crime.iloc[:,1:])"
      ],
      "metadata": {
        "id": "0P4zywGwz0Vi"
      },
      "execution_count": null,
      "outputs": []
    },
    {
      "cell_type": "code",
      "source": [
        "scaled_Crime_df"
      ],
      "metadata": {
        "id": "ZyJvn4fQ0BCb"
      },
      "execution_count": null,
      "outputs": []
    },
    {
      "cell_type": "code",
      "source": [
        "#kmeans algorithm\n",
        "wcss=[]\n",
        "for i in range(1,11):\n",
        "  kmeans=KMeans(n_clusters=i,random_state=0)\n",
        "  kmeans.fit(scaled_Crime_df)\n",
        "  wcss.append(kmeans.inertia_)\n",
        "\n",
        "plt.plot(range(1,11),wcss)\n",
        "plt.title('crime elbow')\n",
        "plt.xlabel('No of clusters')\n",
        "plt.ylabel('wcss')\n",
        "plt.show()"
      ],
      "metadata": {
        "id": "iTmj51Nf0MTM"
      },
      "execution_count": null,
      "outputs": []
    },
    {
      "cell_type": "code",
      "source": [
        "#Build Cluster algorithm\n",
        "from sklearn.cluster import KMeans\n",
        "clusters_new = KMeans(4, random_state=42)\n",
        "clusters_new.fit(scaled_Crime_df)"
      ],
      "metadata": {
        "id": "sr2ZX9wG1YGM"
      },
      "execution_count": null,
      "outputs": []
    },
    {
      "cell_type": "code",
      "source": [
        "clusters_new.labels_"
      ],
      "metadata": {
        "id": "DuxZM9Yk1tqy"
      },
      "execution_count": null,
      "outputs": []
    },
    {
      "cell_type": "code",
      "source": [
        "#Assign clusters to data set\n",
        "crime['cluster_id']=clusters_new.labels_"
      ],
      "metadata": {
        "id": "J6QSNwp319Xj"
      },
      "execution_count": null,
      "outputs": []
    },
    {
      "cell_type": "code",
      "source": [
        "crime"
      ],
      "metadata": {
        "id": "9lkep7Oi2X0b"
      },
      "execution_count": null,
      "outputs": []
    },
    {
      "cell_type": "code",
      "source": [
        "crime.groupby('cluster_id').agg(['mean']).reset_index()"
      ],
      "metadata": {
        "id": "Wxc-ePEp2rQj"
      },
      "execution_count": null,
      "outputs": []
    },
    {
      "cell_type": "code",
      "source": [
        "crime[crime['cluster_id']==3]"
      ],
      "metadata": {
        "id": "bKWngQLg2cyY"
      },
      "execution_count": null,
      "outputs": []
    },
    {
      "cell_type": "code",
      "source": [],
      "metadata": {
        "id": "9xrzg_yB2nHi"
      },
      "execution_count": null,
      "outputs": []
    }
  ]
}