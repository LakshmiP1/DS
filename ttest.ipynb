{
  "nbformat": 4,
  "nbformat_minor": 0,
  "metadata": {
    "colab": {
      "provenance": [],
      "collapsed_sections": [],
      "authorship_tag": "ABX9TyN1Szr7afxi0rFq1AkYif1I",
      "include_colab_link": true
    },
    "kernelspec": {
      "name": "python3",
      "display_name": "Python 3"
    },
    "language_info": {
      "name": "python"
    }
  },
  "cells": [
    {
      "cell_type": "markdown",
      "metadata": {
        "id": "view-in-github",
        "colab_type": "text"
      },
      "source": [
        "<a href=\"https://colab.research.google.com/github/LakshmiP1/DS/blob/main/ttest.ipynb\" target=\"_parent\"><img src=\"https://colab.research.google.com/assets/colab-badge.svg\" alt=\"Open In Colab\"/></a>"
      ]
    },
    {
      "cell_type": "code",
      "source": [
        "import pandas as pd\n",
        "import scipy \n",
        "import numpy as np\n",
        "from scipy import stats"
      ],
      "metadata": {
        "id": "bBdxsbHr_Puq"
      },
      "execution_count": null,
      "outputs": []
    },
    {
      "cell_type": "code",
      "source": [
        "crocin_data=pd.read_csv(\"/content/tTEST1.csv\")"
      ],
      "metadata": {
        "id": "tEpW6vPC_f07"
      },
      "execution_count": null,
      "outputs": []
    },
    {
      "cell_type": "code",
      "source": [
        "crocin_data"
      ],
      "metadata": {
        "id": "f4YhZbL0G-Pv"
      },
      "execution_count": null,
      "outputs": []
    },
    {
      "cell_type": "code",
      "source": [
        "crocin_data['After_Crocin'].mean()"
      ],
      "metadata": {
        "id": "X662Q_5dHD1R"
      },
      "execution_count": null,
      "outputs": []
    },
    {
      "cell_type": "code",
      "source": [
        "crocin_data['Before_Crocin'].std()"
      ],
      "metadata": {
        "id": "Gtr2crvNIPHP"
      },
      "execution_count": null,
      "outputs": []
    },
    {
      "cell_type": "code",
      "source": [
        "crocin_data['Before_Crocin'].mean()"
      ],
      "metadata": {
        "id": "JKPOrVPGHWWX"
      },
      "execution_count": null,
      "outputs": []
    },
    {
      "cell_type": "code",
      "source": [
        "t_value=(100.19-97.6)/(1.57/np.sqrt(29))"
      ],
      "metadata": {
        "id": "_c4Ri3RvHvKd"
      },
      "execution_count": null,
      "outputs": []
    },
    {
      "cell_type": "code",
      "source": [
        "t_value"
      ],
      "metadata": {
        "id": "N9bBHvqFI57m"
      },
      "execution_count": null,
      "outputs": []
    },
    {
      "cell_type": "code",
      "source": [
        "stats.ttest_ind( crocin_data['Before_Crocin'],crocin_data['After_Crocin'])"
      ],
      "metadata": {
        "id": "bPQpc_nrI8bA"
      },
      "execution_count": null,
      "outputs": []
    },
    {
      "cell_type": "code",
      "source": [],
      "metadata": {
        "id": "Nv5BZpD6KVO1"
      },
      "execution_count": null,
      "outputs": []
    }
  ]
}