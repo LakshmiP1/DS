{
  "nbformat": 4,
  "nbformat_minor": 0,
  "metadata": {
    "colab": {
      "name": "pandas_ex.ipynb",
      "provenance": [],
      "authorship_tag": "ABX9TyOmvtGkr/lRo3/l3ssH2emt",
      "include_colab_link": true
    },
    "kernelspec": {
      "name": "python3",
      "display_name": "Python 3"
    },
    "language_info": {
      "name": "python"
    }
  },
  "cells": [
    {
      "cell_type": "markdown",
      "metadata": {
        "id": "view-in-github",
        "colab_type": "text"
      },
      "source": [
        "<a href=\"https://colab.research.google.com/github/LakshmiP1/DS/blob/main/pandas_ex.ipynb\" target=\"_parent\"><img src=\"https://colab.research.google.com/assets/colab-badge.svg\" alt=\"Open In Colab\"/></a>"
      ]
    },
    {
      "cell_type": "code",
      "execution_count": 10,
      "metadata": {
        "colab": {
          "base_uri": "https://localhost:8080/"
        },
        "id": "7-d4DjA-0I2n",
        "outputId": "6004e235-1d37-40d4-da85-529f80f155a8"
      },
      "outputs": [
        {
          "output_type": "stream",
          "name": "stdout",
          "text": [
            "     ename   sals\n",
            "0  lakshmi  10000\n",
            "1  yuvansh  20000\n",
            "2    pinky  30000\n",
            "3   moksha  40000\n"
          ]
        }
      ],
      "source": [
        "import pandas as pd\n",
        "data={\n",
        "    \"ename\":[\"lakshmi\",\"yuvansh\",\"pinky\",\"moksha\"],\n",
        "    \"sals\":[10000,20000,30000,40000]\n",
        "     }\n",
        "     #passing the data to pandas dataframe constructor,so that a dataframe gets created\n",
        "df=pd.DataFrame(data)\n",
        "print(df)\n"
      ]
    },
    {
      "cell_type": "code",
      "source": [
        "#giving index names\n",
        "import pandas as pd\n",
        "data={\"sony\":[200,350,400,500,300],\n",
        "      \"LG\":[500,350,250,150,600],\n",
        "      \"Lenovo\":[200,400,250,100,450]\n",
        "      }\n",
        "df=pd.DataFrame(data,index=[\"April\",\"May\",\"June\",\"July\",\"August\"])\n",
        "print(df)\n",
        "print()\n",
        "#retreiving particular month data\n",
        "print(df.loc[[\"April\"]])\n",
        "print()\n",
        "print(df.loc[\"April\"])\n",
        "  \n"
      ],
      "metadata": {
        "colab": {
          "base_uri": "https://localhost:8080/"
        },
        "id": "7kc1-hUf1gqn",
        "outputId": "5b2dd543-a284-4135-ef3c-8714ac3aec9d"
      },
      "execution_count": 17,
      "outputs": [
        {
          "output_type": "stream",
          "name": "stdout",
          "text": [
            "        sony   LG  Lenovo\n",
            "April    200  500     200\n",
            "May      350  350     400\n",
            "June     400  250     250\n",
            "July     500  150     100\n",
            "August   300  600     450\n",
            "\n",
            "       sony   LG  Lenovo\n",
            "April   200  500     200\n",
            "\n",
            "sony      200\n",
            "LG        500\n",
            "Lenovo    200\n",
            "Name: April, dtype: int64\n"
          ]
        }
      ]
    },
    {
      "cell_type": "code",
      "source": [
        "print(df[[\"LG\"]])"
      ],
      "metadata": {
        "colab": {
          "base_uri": "https://localhost:8080/"
        },
        "id": "0C8Tln673eKe",
        "outputId": "44a4174d-57d9-45df-b5fe-5288e8a384ad"
      },
      "execution_count": 19,
      "outputs": [
        {
          "output_type": "stream",
          "name": "stdout",
          "text": [
            "         LG\n",
            "April   500\n",
            "May     350\n",
            "June    250\n",
            "July    150\n",
            "August  600\n"
          ]
        }
      ]
    },
    {
      "cell_type": "code",
      "source": [
        "#printing multiple columns as dataframe\n",
        "print(df[[\"LG\",\"sony\"]])"
      ],
      "metadata": {
        "colab": {
          "base_uri": "https://localhost:8080/"
        },
        "id": "XeDazFXK5KGv",
        "outputId": "49321c3c-f059-4623-828a-7a2c52ae5aa3"
      },
      "execution_count": 20,
      "outputs": [
        {
          "output_type": "stream",
          "name": "stdout",
          "text": [
            "         LG  sony\n",
            "April   500   200\n",
            "May     350   350\n",
            "June    250   400\n",
            "July    150   500\n",
            "August  600   300\n"
          ]
        }
      ]
    },
    {
      "cell_type": "code",
      "source": [
        "#slicing a dtataframe and retreiving rows\n",
        "print([[df[0:3]]])"
      ],
      "metadata": {
        "colab": {
          "base_uri": "https://localhost:8080/"
        },
        "id": "RTEy6zSs5dVP",
        "outputId": "da61fe74-fa54-4fb1-cbae-073d6729d949"
      },
      "execution_count": 22,
      "outputs": [
        {
          "output_type": "stream",
          "name": "stdout",
          "text": [
            "[[       sony   LG  Lenovo\n",
            "April   200  500     200\n",
            "May     350  350     400\n",
            "June    400  250     250]]\n"
          ]
        }
      ]
    },
    {
      "cell_type": "code",
      "source": [
        "#slicing the columns we use iloc.iloc for integer index,loc for string indexes\n",
        "print(df.iloc[2:4,])"
      ],
      "metadata": {
        "colab": {
          "base_uri": "https://localhost:8080/"
        },
        "id": "33-wphHy5t7a",
        "outputId": "0002e8d3-506f-4815-e243-21d2317380c3"
      },
      "execution_count": 25,
      "outputs": [
        {
          "output_type": "stream",
          "name": "stdout",
          "text": [
            "      sony   LG  Lenovo\n",
            "June   400  250     250\n",
            "July   500  150     100\n"
          ]
        }
      ]
    },
    {
      "cell_type": "code",
      "source": [
        "print(df.sort_values(\"LG\"))"
      ],
      "metadata": {
        "colab": {
          "base_uri": "https://localhost:8080/"
        },
        "id": "UUHH61tt57M1",
        "outputId": "82935b1c-d3f5-4cfa-cea1-abb7907a9807"
      },
      "execution_count": 27,
      "outputs": [
        {
          "output_type": "stream",
          "name": "stdout",
          "text": [
            "        sony   LG  Lenovo\n",
            "July     500  150     100\n",
            "June     400  250     250\n",
            "May      350  350     400\n",
            "April    200  500     200\n",
            "August   300  600     450\n"
          ]
        }
      ]
    },
    {
      "cell_type": "code",
      "source": [
        "#for sorting column values\n",
        "print(df.sort_values(\"LG\",ascending=False))"
      ],
      "metadata": {
        "colab": {
          "base_uri": "https://localhost:8080/"
        },
        "id": "TY_qy-hi7I5P",
        "outputId": "5b24dbee-c82d-431e-a47e-c83c0fcbf463"
      },
      "execution_count": 28,
      "outputs": [
        {
          "output_type": "stream",
          "name": "stdout",
          "text": [
            "        sony   LG  Lenovo\n",
            "August   300  600     450\n",
            "April    200  500     200\n",
            "May      350  350     400\n",
            "June     400  250     250\n",
            "July     500  150     100\n"
          ]
        }
      ]
    },
    {
      "cell_type": "code",
      "source": [
        "#for sorting index values\n",
        "print(df.sort_index())"
      ],
      "metadata": {
        "colab": {
          "base_uri": "https://localhost:8080/"
        },
        "id": "Vbl4cRCo7ilh",
        "outputId": "f9db7344-f2bc-481f-a82a-2b5a21c363d4"
      },
      "execution_count": 33,
      "outputs": [
        {
          "output_type": "stream",
          "name": "stdout",
          "text": [
            "        sony   LG  Lenovo\n",
            "April    200  500     200\n",
            "August   300  600     450\n",
            "July     500  150     100\n",
            "June     400  250     250\n",
            "May      350  350     400\n"
          ]
        }
      ]
    },
    {
      "cell_type": "code",
      "source": [
        "print(df.sort_values(by=[\"LG\",\"sony\"]))"
      ],
      "metadata": {
        "colab": {
          "base_uri": "https://localhost:8080/"
        },
        "id": "HmCs0Vas74_k",
        "outputId": "040cd42d-9b08-43c0-d240-ffc6d1441d0a"
      },
      "execution_count": 34,
      "outputs": [
        {
          "output_type": "stream",
          "name": "stdout",
          "text": [
            "        sony   LG  Lenovo\n",
            "July     500  150     100\n",
            "June     400  250     250\n",
            "May      350  350     400\n",
            "April    200  500     200\n",
            "August   300  600     450\n"
          ]
        }
      ]
    },
    {
      "cell_type": "code",
      "source": [
        "#renaming a dataframe column\n",
        "p=df.columns=['samsung','LG','Lenovo']\n",
        "print(p)\n",
        "print(df)"
      ],
      "metadata": {
        "colab": {
          "base_uri": "https://localhost:8080/"
        },
        "id": "VbZf7jaj_FeW",
        "outputId": "b81ee40d-4645-4be9-cb4e-1d3dac2be442"
      },
      "execution_count": 37,
      "outputs": [
        {
          "output_type": "stream",
          "name": "stdout",
          "text": [
            "['samsung', 'LG', 'Lenovo']\n",
            "        samsung   LG  Lenovo\n",
            "April       200  500     200\n",
            "May         350  350     400\n",
            "June        400  250     250\n",
            "July        500  150     100\n",
            "August      300  600     450\n"
          ]
        }
      ]
    },
    {
      "cell_type": "code",
      "source": [
        "#droping a column or row. axis=1 means it's drop the column,the console dont know whether row will bw deleted or column will bw deleted.\n",
        "x=df.drop(\"LG\",axis=1)\n",
        "print(x)"
      ],
      "metadata": {
        "colab": {
          "base_uri": "https://localhost:8080/"
        },
        "id": "Qv7WC8Mh_szW",
        "outputId": "387e28f0-a650-4f79-95e2-db6c1333496a"
      },
      "execution_count": 38,
      "outputs": [
        {
          "output_type": "stream",
          "name": "stdout",
          "text": [
            "        samsung  Lenovo\n",
            "April       200     200\n",
            "May         350     400\n",
            "June        400     250\n",
            "July        500     100\n",
            "August      300     450\n"
          ]
        }
      ]
    },
    {
      "cell_type": "code",
      "source": [
        "x=df.drop(\"May\")\n",
        "print(x)"
      ],
      "metadata": {
        "colab": {
          "base_uri": "https://localhost:8080/"
        },
        "id": "dBX_8a76AbhC",
        "outputId": "b733daf7-a1c0-4887-ed68-963580a6eb0f"
      },
      "execution_count": 39,
      "outputs": [
        {
          "output_type": "stream",
          "name": "stdout",
          "text": [
            "        samsung   LG  Lenovo\n",
            "April       200  500     200\n",
            "June        400  250     250\n",
            "July        500  150     100\n",
            "August      300  600     450\n"
          ]
        }
      ]
    },
    {
      "cell_type": "code",
      "source": [
        "print(df.rank()) #based on the values of the columns,it gives rank"
      ],
      "metadata": {
        "colab": {
          "base_uri": "https://localhost:8080/"
        },
        "id": "e6EHcZxeAmbV",
        "outputId": "d0560b01-66e1-4a8b-ea7b-325415206fb0"
      },
      "execution_count": 40,
      "outputs": [
        {
          "output_type": "stream",
          "name": "stdout",
          "text": [
            "        samsung   LG  Lenovo\n",
            "April       1.0  4.0     2.0\n",
            "May         3.0  3.0     4.0\n",
            "June        4.0  2.0     3.0\n",
            "July        5.0  1.0     1.0\n",
            "August      2.0  5.0     5.0\n"
          ]
        }
      ]
    },
    {
      "cell_type": "code",
      "source": [
        "x=df.LG.max()\n",
        "print(x)"
      ],
      "metadata": {
        "colab": {
          "base_uri": "https://localhost:8080/"
        },
        "id": "I81WWgVRKwFX",
        "outputId": "4aee1576-5812-4676-bdca-d53312cc151d"
      },
      "execution_count": 41,
      "outputs": [
        {
          "output_type": "stream",
          "name": "stdout",
          "text": [
            "600\n"
          ]
        }
      ]
    },
    {
      "cell_type": "code",
      "source": [
        "x=df.LG.min()\n",
        "print(x)"
      ],
      "metadata": {
        "colab": {
          "base_uri": "https://localhost:8080/"
        },
        "id": "9jPvM39lLUFl",
        "outputId": "919b73ce-b0ce-4bbb-ea81-0a2940a71368"
      },
      "execution_count": 42,
      "outputs": [
        {
          "output_type": "stream",
          "name": "stdout",
          "text": [
            "150\n"
          ]
        }
      ]
    },
    {
      "cell_type": "code",
      "source": [
        "#adding a new column\n",
        "df[\"oppo\"]=df.eval(\"LG+100\")\n",
        "print(df)"
      ],
      "metadata": {
        "colab": {
          "base_uri": "https://localhost:8080/"
        },
        "id": "QPBPZ6OHLbxl",
        "outputId": "b786da3a-8495-4ec4-e417-8c925d04621d"
      },
      "execution_count": 44,
      "outputs": [
        {
          "output_type": "stream",
          "name": "stdout",
          "text": [
            "        samsung   LG  Lenovo  oppo\n",
            "April       200  500     200   600\n",
            "May         350  350     400   450\n",
            "June        400  250     250   350\n",
            "July        500  150     100   250\n",
            "August      300  600     450   700\n"
          ]
        }
      ]
    },
    {
      "cell_type": "code",
      "source": [
        "x=pd.concat([df,df])\n",
        "print(x)"
      ],
      "metadata": {
        "colab": {
          "base_uri": "https://localhost:8080/"
        },
        "id": "m716XR2eMEy7",
        "outputId": "3df52142-79fc-46ea-e526-baddded8dd12"
      },
      "execution_count": 48,
      "outputs": [
        {
          "output_type": "stream",
          "name": "stdout",
          "text": [
            "        samsung   LG  Lenovo  oppo\n",
            "April       200  500     200   600\n",
            "May         350  350     400   450\n",
            "June        400  250     250   350\n",
            "July        500  150     100   250\n",
            "August      300  600     450   700\n",
            "April       200  500     200   600\n",
            "May         350  350     400   450\n",
            "June        400  250     250   350\n",
            "July        500  150     100   250\n",
            "August      300  600     450   700\n"
          ]
        }
      ]
    },
    {
      "cell_type": "code",
      "source": [
        ""
      ],
      "metadata": {
        "id": "HEvQ0Vc4Mysu"
      },
      "execution_count": null,
      "outputs": []
    }
  ]
}