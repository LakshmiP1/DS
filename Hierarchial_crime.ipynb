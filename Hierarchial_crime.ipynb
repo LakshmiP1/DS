{
  "nbformat": 4,
  "nbformat_minor": 0,
  "metadata": {
    "colab": {
      "provenance": [],
      "authorship_tag": "ABX9TyPfxWdH5TMRVd7AbhzomCtp",
      "include_colab_link": true
    },
    "kernelspec": {
      "name": "python3",
      "display_name": "Python 3"
    },
    "language_info": {
      "name": "python"
    }
  },
  "cells": [
    {
      "cell_type": "markdown",
      "metadata": {
        "id": "view-in-github",
        "colab_type": "text"
      },
      "source": [
        "<a href=\"https://colab.research.google.com/github/LakshmiP1/DS/blob/main/Hierarchial_crime.ipynb\" target=\"_parent\"><img src=\"https://colab.research.google.com/assets/colab-badge.svg\" alt=\"Open In Colab\"/></a>"
      ]
    },
    {
      "cell_type": "code",
      "execution_count": null,
      "metadata": {
        "id": "JsICYR_ZNOma"
      },
      "outputs": [],
      "source": [
        "# import hierarchical clustering libraries\n",
        "import scipy.cluster.hierarchy as sch\n",
        "from sklearn.cluster import AgglomerativeClustering\n",
        "import numpy as np\n",
        "import pandas as pd\n",
        "from matplotlib import pyplot as plt\n",
        "import seaborn as sn"
      ]
    },
    {
      "cell_type": "code",
      "source": [
        "crime=pd.read_csv(\"crime data.csv\")"
      ],
      "metadata": {
        "id": "C6tccQJsOqnB"
      },
      "execution_count": null,
      "outputs": []
    },
    {
      "cell_type": "code",
      "source": [
        "crime.head()"
      ],
      "metadata": {
        "id": "fN31CkynOwK8"
      },
      "execution_count": null,
      "outputs": []
    },
    {
      "cell_type": "code",
      "source": [
        "from sklearn.preprocessing import StandardScaler\n",
        "scaler=StandardScaler()\n",
        "scaled_crime=scaler.fit_transform(crime.iloc[:,1:])"
      ],
      "metadata": {
        "id": "hhVVSI8QOzC5"
      },
      "execution_count": null,
      "outputs": []
    },
    {
      "cell_type": "code",
      "source": [
        "scaled_crime"
      ],
      "metadata": {
        "id": "RyzIzV5VPvUV"
      },
      "execution_count": null,
      "outputs": []
    },
    {
      "cell_type": "code",
      "source": [
        "#create dendogram\n",
        "dendrogram=sch.dendrogram(sch.linkage(scaled_crime,method='single'))"
      ],
      "metadata": {
        "id": "ENXD7PvyPxek"
      },
      "execution_count": null,
      "outputs": []
    },
    {
      "cell_type": "code",
      "source": [
        "hc=AgglomerativeClustering(n_clusters=4,affinity='euclidean',linkage='single')\n",
        "y_hc=hc.fit_predict(scaled_crime)\n",
        "clusters=pd.DataFrame(y_hc,columns=['clusters'])"
      ],
      "metadata": {
        "id": "EF-0eZ83QNW2"
      },
      "execution_count": null,
      "outputs": []
    },
    {
      "cell_type": "code",
      "source": [
        "clusters"
      ],
      "metadata": {
        "id": "idaQpgiyQrK_"
      },
      "execution_count": null,
      "outputs": []
    },
    {
      "cell_type": "code",
      "source": [
        "crime['h_clusterid']=clusters"
      ],
      "metadata": {
        "id": "QPRIjwMtROFW"
      },
      "execution_count": null,
      "outputs": []
    },
    {
      "cell_type": "code",
      "source": [
        "crime"
      ],
      "metadata": {
        "id": "QW-h5LyiTFZK"
      },
      "execution_count": null,
      "outputs": []
    },
    {
      "cell_type": "code",
      "source": [
        "crime.sort_values('h_clusterid')"
      ],
      "metadata": {
        "id": "qKWC4pG7Rfnm"
      },
      "execution_count": null,
      "outputs": []
    },
    {
      "cell_type": "code",
      "source": [
        "crime[crime['h_clusterid']==0]"
      ],
      "metadata": {
        "id": "XbrOKIAHS1eB"
      },
      "execution_count": null,
      "outputs": []
    },
    {
      "cell_type": "code",
      "source": [
        "crime.groupby('h_clusterid').agg(['mean'])"
      ],
      "metadata": {
        "id": "Mdv2PdpRUZHj"
      },
      "execution_count": null,
      "outputs": []
    },
    {
      "cell_type": "code",
      "source": [],
      "metadata": {
        "id": "CYHeMuToUm7J"
      },
      "execution_count": null,
      "outputs": []
    }
  ]
}