{
  "nbformat": 4,
  "nbformat_minor": 0,
  "metadata": {
    "colab": {
      "name": "pandas_intro.ipynb",
      "provenance": [],
      "authorship_tag": "ABX9TyNf67bgWZUPwIOjssT4VmJP",
      "include_colab_link": true
    },
    "kernelspec": {
      "name": "python3",
      "display_name": "Python 3"
    },
    "language_info": {
      "name": "python"
    }
  },
  "cells": [
    {
      "cell_type": "markdown",
      "metadata": {
        "id": "view-in-github",
        "colab_type": "text"
      },
      "source": [
        "<a href=\"https://colab.research.google.com/github/LakshmiP1/DS/blob/main/pandas_intro.ipynb\" target=\"_parent\"><img src=\"https://colab.research.google.com/assets/colab-badge.svg\" alt=\"Open In Colab\"/></a>"
      ]
    },
    {
      "cell_type": "code",
      "execution_count": null,
      "metadata": {
        "id": "0YChY36A0p_A"
      },
      "outputs": [],
      "source": [
        "import pandas as pd\n",
        "import numpy as np\n",
        "import matplotlib as mlp\n",
        "import seaborn as sns"
      ]
    },
    {
      "cell_type": "code",
      "source": [
        "df=pd.read_csv(\"Salaries.csv\")"
      ],
      "metadata": {
        "id": "hNJYeZLE0zUK"
      },
      "execution_count": null,
      "outputs": []
    },
    {
      "cell_type": "code",
      "source": [
        "df.info()"
      ],
      "metadata": {
        "id": "NINmE9A51RRa"
      },
      "execution_count": null,
      "outputs": []
    },
    {
      "cell_type": "code",
      "source": [
        "df"
      ],
      "metadata": {
        "id": "sjirIgSn9KEz"
      },
      "execution_count": null,
      "outputs": []
    },
    {
      "cell_type": "code",
      "source": [
        "df.head(10)"
      ],
      "metadata": {
        "id": "8C7nPrxj1Sej"
      },
      "execution_count": null,
      "outputs": []
    },
    {
      "cell_type": "code",
      "source": [
        "df.head(20)"
      ],
      "metadata": {
        "id": "3ntbgHfc3q8w"
      },
      "execution_count": null,
      "outputs": []
    },
    {
      "cell_type": "code",
      "source": [
        "df.head(50)"
      ],
      "metadata": {
        "id": "JIfVZcts3s77"
      },
      "execution_count": null,
      "outputs": []
    },
    {
      "cell_type": "code",
      "source": [
        "#returns dtypes of columns\n",
        "df.dtypes"
      ],
      "metadata": {
        "id": "GVHSkDgk3uy6"
      },
      "execution_count": null,
      "outputs": []
    },
    {
      "cell_type": "code",
      "source": [
        "#returns column names\n",
        "df.columns"
      ],
      "metadata": {
        "id": "9NYcYNfC5X6u"
      },
      "execution_count": null,
      "outputs": []
    },
    {
      "cell_type": "code",
      "source": [
        "#returns no of dimensions\n",
        "df.ndim"
      ],
      "metadata": {
        "id": "ckrNDpeC5btv"
      },
      "execution_count": null,
      "outputs": []
    },
    {
      "cell_type": "code",
      "source": [
        "#returns row labels and column names\n",
        "df.axes"
      ],
      "metadata": {
        "id": "Gfioq-hx5eXl"
      },
      "execution_count": null,
      "outputs": []
    },
    {
      "cell_type": "code",
      "source": [
        "#returns total elements\n",
        "df.size"
      ],
      "metadata": {
        "id": "JGP9CQ4G5gWc"
      },
      "execution_count": null,
      "outputs": []
    },
    {
      "cell_type": "code",
      "source": [
        "#no of records(rows) and columns in df\n",
        "df.shape"
      ],
      "metadata": {
        "id": "Z-qpOk045nV5"
      },
      "execution_count": null,
      "outputs": []
    },
    {
      "cell_type": "code",
      "source": [
        "df.values"
      ],
      "metadata": {
        "id": "Jq0x8pOs5pP-"
      },
      "execution_count": null,
      "outputs": []
    },
    {
      "cell_type": "code",
      "source": [
        "#return no of rows\n",
        "df.shape[0]"
      ],
      "metadata": {
        "id": "f7tY4j2C5sMS"
      },
      "execution_count": null,
      "outputs": []
    },
    {
      "cell_type": "code",
      "source": [
        "#return no of columns\n",
        "df.shape[1]"
      ],
      "metadata": {
        "id": "oeAds0ZF7wCy"
      },
      "execution_count": null,
      "outputs": []
    },
    {
      "cell_type": "code",
      "source": [
        "dir(df)"
      ],
      "metadata": {
        "id": "GN22cYIl70LA"
      },
      "execution_count": null,
      "outputs": []
    },
    {
      "cell_type": "code",
      "source": [
        "df.sample(n=1)"
      ],
      "metadata": {
        "id": "_74Ltd5F8g3s"
      },
      "execution_count": null,
      "outputs": []
    },
    {
      "cell_type": "code",
      "source": [
        "df.sample(n=2)"
      ],
      "metadata": {
        "id": "8xl1eK9n-noq"
      },
      "execution_count": null,
      "outputs": []
    },
    {
      "cell_type": "code",
      "source": [
        "df.tail(20)"
      ],
      "metadata": {
        "id": "cFCoyXnr-sxC"
      },
      "execution_count": null,
      "outputs": []
    },
    {
      "cell_type": "code",
      "source": [
        "df.describe()"
      ],
      "metadata": {
        "id": "7L2Y9E9o-3CR"
      },
      "execution_count": null,
      "outputs": []
    },
    {
      "cell_type": "code",
      "source": [
        "df.mean()"
      ],
      "metadata": {
        "id": "x1TuRVPW_4gR"
      },
      "execution_count": null,
      "outputs": []
    },
    {
      "cell_type": "code",
      "source": [
        "df.phd.mean()"
      ],
      "metadata": {
        "id": "NUD11UNjADMb"
      },
      "execution_count": null,
      "outputs": []
    },
    {
      "cell_type": "code",
      "source": [
        "df.median()"
      ],
      "metadata": {
        "id": "DEjFMBQzAHoP"
      },
      "execution_count": null,
      "outputs": []
    },
    {
      "cell_type": "code",
      "source": [
        "df.count()"
      ],
      "metadata": {
        "id": "s1nq5VRlAJhQ"
      },
      "execution_count": null,
      "outputs": []
    },
    {
      "cell_type": "code",
      "source": [
        "df.discipline.count()"
      ],
      "metadata": {
        "id": "tbv8zqRkAMH-"
      },
      "execution_count": null,
      "outputs": []
    },
    {
      "cell_type": "code",
      "source": [
        "df['rank'].count()"
      ],
      "metadata": {
        "id": "kHdt9xO1APoV"
      },
      "execution_count": null,
      "outputs": []
    },
    {
      "cell_type": "code",
      "source": [
        "df.std()"
      ],
      "metadata": {
        "id": "MTkntx1QAcqf"
      },
      "execution_count": null,
      "outputs": []
    },
    {
      "cell_type": "code",
      "source": [
        "df.head(50).mean()"
      ],
      "metadata": {
        "id": "vI5crB9SA0S3"
      },
      "execution_count": null,
      "outputs": []
    },
    {
      "cell_type": "code",
      "source": [
        "df[['salary']]"
      ],
      "metadata": {
        "id": "avi4-R8zA7Nq"
      },
      "execution_count": null,
      "outputs": []
    },
    {
      "cell_type": "code",
      "source": [
        "df.salary"
      ],
      "metadata": {
        "id": "3vNrP0J0CRUK"
      },
      "execution_count": null,
      "outputs": []
    },
    {
      "cell_type": "code",
      "source": [
        "df.rank"
      ],
      "metadata": {
        "id": "L0OxI4kUCT3o"
      },
      "execution_count": null,
      "outputs": []
    },
    {
      "cell_type": "code",
      "source": [
        "df.phd.describe()"
      ],
      "metadata": {
        "id": "8WNUyag5CVg4"
      },
      "execution_count": null,
      "outputs": []
    },
    {
      "cell_type": "code",
      "source": [
        "df.phd.count()"
      ],
      "metadata": {
        "id": "w9fBI51TCjcf"
      },
      "execution_count": null,
      "outputs": []
    },
    {
      "cell_type": "code",
      "source": [
        "df.phd.mean()"
      ],
      "metadata": {
        "id": "qZ6My5zxCptp"
      },
      "execution_count": null,
      "outputs": []
    },
    {
      "cell_type": "code",
      "source": [
        "df.groupby('rank').mean()"
      ],
      "metadata": {
        "id": "gDTQP2WjCs2H"
      },
      "execution_count": null,
      "outputs": []
    },
    {
      "cell_type": "code",
      "source": [
        "df.groupby('rank')[['salary']].median()"
      ],
      "metadata": {
        "id": "Ugjl-0_ZFC8d"
      },
      "execution_count": null,
      "outputs": []
    },
    {
      "cell_type": "code",
      "source": [
        "df[(df['rank']=='Prof') & (df['discipline']==\"B\") & (df['salary']>120000)]"
      ],
      "metadata": {
        "id": "ajCL6QxDFMao"
      },
      "execution_count": null,
      "outputs": []
    },
    {
      "cell_type": "code",
      "source": [
        "df[0:4]"
      ],
      "metadata": {
        "id": "aXiLXJ8nF2Qf"
      },
      "execution_count": null,
      "outputs": []
    },
    {
      "cell_type": "code",
      "source": [
        "df[2:7]"
      ],
      "metadata": {
        "id": "gfzXNO5RVpd7"
      },
      "execution_count": null,
      "outputs": []
    },
    {
      "cell_type": "code",
      "source": [
        "df.iloc[:,-3:]"
      ],
      "metadata": {
        "id": "_viLMYKvV1d1"
      },
      "execution_count": null,
      "outputs": []
    },
    {
      "cell_type": "code",
      "source": [
        "df.iloc[1:6,0:3]"
      ],
      "metadata": {
        "id": "AGcEeg9WV7aL"
      },
      "execution_count": null,
      "outputs": []
    },
    {
      "cell_type": "code",
      "source": [
        "df[['phd','salary']].agg(['min','mean','std'])"
      ],
      "metadata": {
        "id": "XAT5BEPWWRqm"
      },
      "execution_count": null,
      "outputs": []
    },
    {
      "cell_type": "code",
      "source": [
        "df.groupby(['rank']).mean()"
      ],
      "metadata": {
        "id": "DgUZtEgR2DfR"
      },
      "execution_count": null,
      "outputs": []
    },
    {
      "cell_type": "code",
      "source": [
        "df.groupby(['rank','discipline']).std()"
      ],
      "metadata": {
        "id": "eFV-kwJB2iUO"
      },
      "execution_count": null,
      "outputs": []
    },
    {
      "cell_type": "code",
      "source": [
        ""
      ],
      "metadata": {
        "id": "zC7JWBA22uRe"
      },
      "execution_count": null,
      "outputs": []
    }
  ]
}