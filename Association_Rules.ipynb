{
  "nbformat": 4,
  "nbformat_minor": 0,
  "metadata": {
    "kernelspec": {
      "display_name": "Python 3",
      "language": "python",
      "name": "python3"
    },
    "language_info": {
      "codemirror_mode": {
        "name": "ipython",
        "version": 3
      },
      "file_extension": ".py",
      "mimetype": "text/x-python",
      "name": "python",
      "nbconvert_exporter": "python",
      "pygments_lexer": "ipython3",
      "version": "3.7.4"
    },
    "colab": {
      "provenance": [],
      "include_colab_link": true
    }
  },
  "cells": [
    {
      "cell_type": "markdown",
      "metadata": {
        "id": "view-in-github",
        "colab_type": "text"
      },
      "source": [
        "<a href=\"https://colab.research.google.com/github/LakshmiP1/DS/blob/main/Association_Rules.ipynb\" target=\"_parent\"><img src=\"https://colab.research.google.com/assets/colab-badge.svg\" alt=\"Open In Colab\"/></a>"
      ]
    },
    {
      "cell_type": "markdown",
      "metadata": {
        "id": "fpP7kKdGbJoN"
      },
      "source": [
        "# Import libraries "
      ]
    },
    {
      "cell_type": "code",
      "metadata": {
        "id": "fl6W-NcMbJoX"
      },
      "source": [
        "import pandas as pd\n",
        "from mlxtend.frequent_patterns import apriori,association_rules\n",
        "from mlxtend.preprocessing import TransactionEncoder\n",
        "!pip install mlxtend"
      ],
      "execution_count": null,
      "outputs": []
    },
    {
      "cell_type": "code",
      "metadata": {
        "id": "qeHH6kPubJoY"
      },
      "source": [
        "titanic = pd.read_csv(\"Titanic.csv\")\n",
        "titanic.head()"
      ],
      "execution_count": null,
      "outputs": []
    },
    {
      "cell_type": "markdown",
      "metadata": {
        "id": "40y3B1A0bJoY"
      },
      "source": [
        "# Pre-Processing\n",
        "As the data is not in transaction formation \n",
        "We are using transaction Encoder"
      ]
    },
    {
      "cell_type": "code",
      "metadata": {
        "id": "pZ067yRcbJoZ"
      },
      "source": [
        "df=pd.get_dummies(titanic)\n",
        "df.head()"
      ],
      "execution_count": null,
      "outputs": []
    },
    {
      "cell_type": "markdown",
      "metadata": {
        "id": "JxZKcTqAbJoZ"
      },
      "source": [
        "# Apriori Algorithm "
      ]
    },
    {
      "cell_type": "code",
      "metadata": {
        "id": "3s6vFM_nbJoa"
      },
      "source": [
        "frequent_itemsets = apriori(df, min_support=0.1, use_colnames=True)\n",
        "frequent_itemsets"
      ],
      "execution_count": null,
      "outputs": []
    },
    {
      "cell_type": "code",
      "metadata": {
        "id": "nbaeotAcbJoa"
      },
      "source": [
        "rules = association_rules(frequent_itemsets, metric=\"lift\", min_threshold=0.7)\n",
        "rules\n",
        "rules.sort_values('lift',ascending = False)"
      ],
      "execution_count": null,
      "outputs": []
    },
    {
      "cell_type": "markdown",
      "metadata": {
        "id": "aFuVeTacbJoa"
      },
      "source": [
        "#####  An leverage value of 0 indicates independence. Range will be [-1 1]\n",
        "A high conviction value means that the consequent is highly depending on the antecedent and range [0 inf]"
      ]
    },
    {
      "cell_type": "code",
      "metadata": {
        "id": "PiJ0wRgmbJob"
      },
      "source": [
        "rules.sort_values('lift',ascending = False)[0:20]"
      ],
      "execution_count": null,
      "outputs": []
    },
    {
      "cell_type": "code",
      "metadata": {
        "id": "I_M3G8AlbJob"
      },
      "source": [
        "rules[rules.lift>1]"
      ],
      "execution_count": null,
      "outputs": []
    },
    {
      "cell_type": "code",
      "metadata": {
        "id": "SzJnzLHAbJoc"
      },
      "source": [
        "rules[['support','confidence']].hist()"
      ],
      "execution_count": null,
      "outputs": []
    },
    {
      "cell_type": "code",
      "metadata": {
        "id": "O6wkD386kdFQ"
      },
      "source": [
        "rules[['support','confidence','lift']].hist()"
      ],
      "execution_count": null,
      "outputs": []
    },
    {
      "cell_type": "code",
      "metadata": {
        "id": "sz5yT-VhkdPk"
      },
      "source": [],
      "execution_count": null,
      "outputs": []
    },
    {
      "cell_type": "code",
      "metadata": {
        "id": "KA1Skq_Zi366"
      },
      "source": [
        "import matplotlib.pyplot as plt\n",
        "\n",
        "x = [5,7,8,7,2,17,2,9,4,11,12,9,6]\n",
        "y = [99,86,87,88,111,86,103,87,94,78,77,85,86]\n",
        "\n",
        "plt.scatter(rules['support'], rules['confidence'])\n",
        "plt.show()\n"
      ],
      "execution_count": null,
      "outputs": []
    },
    {
      "cell_type": "code",
      "metadata": {
        "id": "QZr2BiBcjQGH"
      },
      "source": [
        "import seaborn as sns\n",
        "sns.scatterplot('support', 'confidence', data=rules, hue='antecedents')\n",
        "\n",
        "plt.show()"
      ],
      "execution_count": null,
      "outputs": []
    },
    {
      "cell_type": "code",
      "metadata": {
        "id": "TO2aHlEPj6CS"
      },
      "source": [
        "!pip install nsepython\n"
      ],
      "execution_count": null,
      "outputs": []
    },
    {
      "cell_type": "code",
      "metadata": {
        "id": "QzrYjBFjfa2R"
      },
      "source": [
        "from nsepython import *   \n",
        "print(indices)"
      ],
      "execution_count": null,
      "outputs": []
    },
    {
      "cell_type": "code",
      "metadata": {
        "id": "BH_EX5oYfxK4"
      },
      "source": [
        "oi_data, ltp, crontime = oi_chain_builder(\"RELIANCE\",\"latest\",\"full\")\n",
        "print(oi_data)\n",
        "print(ltp)\n",
        "print(crontime)\n"
      ],
      "execution_count": null,
      "outputs": []
    },
    {
      "cell_type": "code",
      "metadata": {
        "id": "fcEj3Jcif3zM"
      },
      "source": [],
      "execution_count": null,
      "outputs": []
    }
  ]
}