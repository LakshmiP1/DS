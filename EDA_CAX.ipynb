{
  "nbformat": 4,
  "nbformat_minor": 0,
  "metadata": {
    "colab": {
      "name": "EDA_CAX.ipynb",
      "provenance": [],
      "authorship_tag": "ABX9TyOgY/VvxY3nVn64t7fWgN+U",
      "include_colab_link": true
    },
    "kernelspec": {
      "name": "python3",
      "display_name": "Python 3"
    },
    "language_info": {
      "name": "python"
    }
  },
  "cells": [
    {
      "cell_type": "markdown",
      "metadata": {
        "id": "view-in-github",
        "colab_type": "text"
      },
      "source": [
        "<a href=\"https://colab.research.google.com/github/LakshmiP1/DS/blob/main/EDA_CAX.ipynb\" target=\"_parent\"><img src=\"https://colab.research.google.com/assets/colab-badge.svg\" alt=\"Open In Colab\"/></a>"
      ]
    },
    {
      "cell_type": "code",
      "execution_count": null,
      "metadata": {
        "id": "4wLFlNh_5w-5"
      },
      "outputs": [],
      "source": [
        "import pandas as pd\n",
        "import numpy as np\n",
        "import matplotlib.pyplot as plt\n",
        "%matplotlib inline\n",
        "import seaborn as sns\n",
        "pd.set_option(\"display.max_columns\",None)\n",
        "pd.set_option(\"display.max_rows\",None)\n",
        "plt.style.use('seaborn')"
      ]
    },
    {
      "cell_type": "code",
      "source": [
        "cax_df=pd.read_csv(\"CAX_Startup_Data.csv\")"
      ],
      "metadata": {
        "id": "_FkhACYm6V_p"
      },
      "execution_count": 32,
      "outputs": []
    },
    {
      "cell_type": "code",
      "source": [
        "\n",
        "#cax_df.head()"
      ],
      "metadata": {
        "id": "KJKaDCDd6kW-"
      },
      "execution_count": null,
      "outputs": []
    },
    {
      "cell_type": "code",
      "source": [
        "missing=['No Info','None','none']\n",
        "cax_df=pd.read_csv(\"CAX_Startup_Data.csv\",na_values=missing)\n",
        "cax_df.head()"
      ],
      "metadata": {
        "id": "VnQM3ud86oEE"
      },
      "execution_count": null,
      "outputs": []
    },
    {
      "cell_type": "code",
      "source": [
        "print(\"shape of the data set is\",format(len(cax_df)), \"rows and\" ,len(cax_df.columns) , \"columns\")"
      ],
      "metadata": {
        "id": "Q3Iy2KZj9SsT"
      },
      "execution_count": null,
      "outputs": []
    },
    {
      "cell_type": "code",
      "source": [
        "#renaming long column names into short names\n",
        "cax_df.rename(columns={\"Capital intensive business e.g. e-commerce, Engineering products and operations can also cause a business to be capital intensive\":\"Capital Intensive Bussiness\",\n",
        "                       'Survival through recession, based on existence of the company through recession times':\n",
        "                  \"Survival through recession\", \"Top forums like 'Tech crunch' or 'Venture beat' talking about the company/model - How much is it being talked about?\"\n",
        "                  :\"Top forums talking about company/Model\",\"Avg time to investment - average across all rounds, measured from previous investment\":\"Avg time to investment\"},inplace=True)"
      ],
      "metadata": {
        "id": "LjcpE_h_-83K"
      },
      "execution_count": null,
      "outputs": []
    },
    {
      "cell_type": "code",
      "source": [
        "cax_df.columns"
      ],
      "metadata": {
        "id": "upvxM98QA_Yz"
      },
      "execution_count": null,
      "outputs": []
    },
    {
      "cell_type": "code",
      "source": [
        "pd.set_option(\"display.max_columns\",None)\n",
        "pd.set_option(\"display.max_rows\",None)\n",
        "plt.style.use('seaborn')\n",
        "datatypes=pd.DataFrame(cax_df.dtypes,columns=['Data Types'])"
      ],
      "metadata": {
        "id": "ch7AY2w7A_Ux"
      },
      "execution_count": null,
      "outputs": []
    },
    {
      "cell_type": "code",
      "source": [
        "datatypes"
      ],
      "metadata": {
        "id": "2LSaAswnA_Kx"
      },
      "execution_count": null,
      "outputs": []
    },
    {
      "cell_type": "code",
      "source": [
        "cax_df['Est. Founding Date']=pd.to_datetime(cax_df['Est. Founding Date'])\n",
        "cax_df['Last Funding Date']=pd.to_datetime(cax_df['Last Funding Date'])"
      ],
      "metadata": {
        "id": "JD4JOnJ1A-45"
      },
      "execution_count": null,
      "outputs": []
    },
    {
      "cell_type": "code",
      "source": [
        "cax_df.dtypes"
      ],
      "metadata": {
        "id": "w7e7Xg1PA-zf"
      },
      "execution_count": null,
      "outputs": []
    },
    {
      "cell_type": "code",
      "source": [
        "cax_df[\"Last round of funding received (in milionUSD)\"].replace({\"unknown amount\":np.nan,\"No Info\":np.nan},inplace=True)\n",
        "\n"
      ],
      "metadata": {
        "id": "P_vpVf6MA-we"
      },
      "execution_count": null,
      "outputs": []
    },
    {
      "cell_type": "code",
      "source": [
        "cax_df[\"Last round of funding received (in milionUSD)\"]=cax_df[\"Last round of funding received (in milionUSD)\"].astype(float)"
      ],
      "metadata": {
        "id": "G8qX1oDfMor5"
      },
      "execution_count": null,
      "outputs": []
    },
    {
      "cell_type": "code",
      "source": [
        "cax_df.replace({\"No Info\":np.nan,\"Not Applicable\":np.nan},inplace=True)"
      ],
      "metadata": {
        "id": "ngHOADwVsVWQ"
      },
      "execution_count": null,
      "outputs": []
    },
    {
      "cell_type": "code",
      "source": [
        "cax_df.iloc[:,1:4]"
      ],
      "metadata": {
        "id": "bfL3gQ_6wMAc"
      },
      "execution_count": null,
      "outputs": []
    },
    {
      "cell_type": "code",
      "source": [
        "cax_df.replace({\"YES,yes\":\"Yes\",\"NO,no\":\"No\",\"GLOBAL,global\":\"Global\",\"CLOUD,cloud\":\"Cloud\",\"LOCAL,local\":\"Local\"},inplace=True)\n"
      ],
      "metadata": {
        "id": "rEEe0N5Hwi_6"
      },
      "execution_count": null,
      "outputs": []
    },
    {
      "cell_type": "code",
      "source": [
        "cax_df"
      ],
      "metadata": {
        "id": "gW6uAP1A4ZKo"
      },
      "execution_count": null,
      "outputs": []
    },
    {
      "cell_type": "code",
      "source": [
        "nullvalues=pd.DataFrame(cax_df.isnull().sum(),columns=[\"Null Values\"])\n",
        "nullvalues[\"% Missing Values\"]=pd.DataFrame(cax_df.isnull().sum()/len(cax_df)*100)\n"
      ],
      "metadata": {
        "id": "eJamZ0SV65Cu"
      },
      "execution_count": null,
      "outputs": []
    },
    {
      "cell_type": "code",
      "source": [
        "nullvalues.style.background_gradient(cmap='viridis',low=0.2,high=0.1)"
      ],
      "metadata": {
        "id": "rp5BONYI_HNJ"
      },
      "execution_count": null,
      "outputs": []
    },
    {
      "cell_type": "code",
      "source": [],
      "metadata": {
        "id": "yY6dqv1G_I1H"
      },
      "execution_count": null,
      "outputs": []
    }
  ]
}