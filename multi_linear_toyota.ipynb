{
  "nbformat": 4,
  "nbformat_minor": 0,
  "metadata": {
    "colab": {
      "provenance": [],
      "authorship_tag": "ABX9TyOdw3aEAfFVJCUfDImzySHW",
      "include_colab_link": true
    },
    "kernelspec": {
      "name": "python3",
      "display_name": "Python 3"
    },
    "language_info": {
      "name": "python"
    }
  },
  "cells": [
    {
      "cell_type": "markdown",
      "metadata": {
        "id": "view-in-github",
        "colab_type": "text"
      },
      "source": [
        "<a href=\"https://colab.research.google.com/github/LakshmiP1/DS/blob/main/multi_linear_toyota.ipynb\" target=\"_parent\"><img src=\"https://colab.research.google.com/assets/colab-badge.svg\" alt=\"Open In Colab\"/></a>"
      ]
    },
    {
      "cell_type": "code",
      "execution_count": null,
      "metadata": {
        "id": "a7Qx6VKHZA8R"
      },
      "outputs": [],
      "source": [
        "import pandas as pd\n",
        "import matplotlib.pyplot as plt\n",
        "import seaborn as sns\n",
        "from statsmodels.graphics.regressionplots import influence_plot\n",
        "import statsmodels.formula.api as smf\n",
        "import numpy as np"
      ]
    },
    {
      "cell_type": "code",
      "source": [
        "#Load the data set\n",
        "cars = pd.read_csv(\"Toyoto_Corrola.csv\")\n",
        "cars.head()"
      ],
      "metadata": {
        "id": "Z6DUdG0yZYFi"
      },
      "execution_count": null,
      "outputs": []
    },
    {
      "cell_type": "code",
      "source": [
        "cars.info()"
      ],
      "metadata": {
        "id": "pvsZSlbQZhgw"
      },
      "execution_count": null,
      "outputs": []
    },
    {
      "cell_type": "code",
      "source": [
        "# dropping the case number columns as it is not required\n",
        "cars.drop([\"Id\",\"Model\"],inplace=True,axis = 1)"
      ],
      "metadata": {
        "id": "FaxvMwzUZ85d"
      },
      "execution_count": null,
      "outputs": []
    },
    {
      "cell_type": "code",
      "source": [
        "cars.info()"
      ],
      "metadata": {
        "id": "ljyxmVNJbAc4"
      },
      "execution_count": null,
      "outputs": []
    },
    {
      "cell_type": "markdown",
      "source": [
        "### **Correlation** **Matrix**"
      ],
      "metadata": {
        "id": "xOG9PAjib0wb"
      }
    },
    {
      "cell_type": "code",
      "source": [
        "cars.corr()"
      ],
      "metadata": {
        "id": "HTpZgknkbCGz"
      },
      "execution_count": null,
      "outputs": []
    },
    {
      "cell_type": "code",
      "source": [
        "cars.Cylinders.describe()"
      ],
      "metadata": {
        "id": "p7dU--X7h82y"
      },
      "execution_count": null,
      "outputs": []
    },
    {
      "cell_type": "code",
      "source": [
        "cars.drop('Cylinders',inplace=True,axis=1)\n"
      ],
      "metadata": {
        "id": "xb1y9DkLiQPf"
      },
      "execution_count": null,
      "outputs": []
    },
    {
      "cell_type": "code",
      "source": [
        "cars.info()"
      ],
      "metadata": {
        "id": "F9HW9e7PircV"
      },
      "execution_count": null,
      "outputs": []
    },
    {
      "cell_type": "code",
      "source": [
        "cars.corr()"
      ],
      "metadata": {
        "id": "h3KHSCc0i6Ig"
      },
      "execution_count": null,
      "outputs": []
    },
    {
      "cell_type": "markdown",
      "source": [
        "# **Scatter Plot b/w variables and along with histogram**"
      ],
      "metadata": {
        "id": "ZwKJGQPFefi5"
      }
    },
    {
      "cell_type": "code",
      "source": [
        "#Format the plot background and scatter plots for all the variables\n",
        "sns.set_style(style='darkgrid')\n",
        "sns.pairplot(cars)\n",
        "\n"
      ],
      "metadata": {
        "id": "1bEhVX7dbwL9"
      },
      "execution_count": null,
      "outputs": []
    },
    {
      "cell_type": "markdown",
      "source": [
        "## **Preparing a model**"
      ],
      "metadata": {
        "id": "bIv6SpTXf2Gq"
      }
    },
    {
      "cell_type": "code",
      "source": [
        "#Build model\n",
        "import statsmodels.formula.api as smf \n",
        "model=smf.ols('Price~Age_08_04+KM+HP+Doors+Gears+Weight',cars).fit()"
      ],
      "metadata": {
        "id": "a0s30rN-e8rZ"
      },
      "execution_count": null,
      "outputs": []
    },
    {
      "cell_type": "code",
      "source": [
        "#coefficients\n",
        "model.params"
      ],
      "metadata": {
        "id": "R5rj_o2NggYH"
      },
      "execution_count": null,
      "outputs": []
    },
    {
      "cell_type": "code",
      "source": [
        "#t and p values\n",
        "print(model.tvalues,'\\n',model.pvalues)"
      ],
      "metadata": {
        "id": "zIzVON3Wgm4L"
      },
      "execution_count": null,
      "outputs": []
    },
    {
      "cell_type": "code",
      "source": [
        "#r squared values\n",
        "(model.rsquared,model.rsquared_adj)"
      ],
      "metadata": {
        "id": "PcsINakShJkN"
      },
      "execution_count": null,
      "outputs": []
    },
    {
      "cell_type": "code",
      "source": [
        "rsq_Age_08_04 = smf.ols('HP~KM+HP+Doors+Gears+Weight',data=cars).fit().rsquared  \n",
        "vif_Age_08_04 = 1/(1-rsq_Age_08_04) # 16.33\n",
        "\n",
        "rsq_KM = smf.ols('KM~Age_08_04+HP+Doors+Gears+Weight',data=cars).fit().rsquared  \n",
        "vif_KM = 1/(1-rsq_KM) # 564.98\n",
        "\n",
        "rsq_HP = smf.ols('HP~Age_08_04+KM+Doors+Gears+Weight',data=cars).fit().rsquared  \n",
        "vif_HP = 1/(1-rsq_HP) #  564.84\n",
        "\n",
        "rsq_Doors = smf.ols('Doors~Age_08_04+KM+Gears+Weight+HP',data=cars).fit().rsquared  \n",
        "vif_Doors = 1/(1-rsq_Doors) #  16.35\n",
        "\n",
        "rsq_Gears = smf.ols('Gears~Age_08_04+HP+KM+Doors+Weight',data=cars).fit().rsquared\n",
        "vif_Gears = 1/(1-rsq_Gears)\n",
        "\n",
        "rsq_Weight = smf.ols('Weight~Age_08_04+HP+KM+Gears+Doors',data=cars).fit().rsquared\n",
        "vif_Weight = 1/(1-rsq_Weight)\n",
        "\n",
        "# Storing vif values in a data frame\n",
        "d1 = {'Variables':['Age_08_04 ','KM','HP','Doors','Gears','Weight'],'VIF':[vif_Age_08_04 ,vif_KM,vif_HP,vif_Doors,vif_Gears,vif_Weight]}\n",
        "Vif_frame = pd.DataFrame(d1)  \n",
        "Vif_frame"
      ],
      "metadata": {
        "id": "YMe7UD83hc5Q"
      },
      "execution_count": null,
      "outputs": []
    },
    {
      "cell_type": "markdown",
      "source": [
        "# **Residual Analysis**"
      ],
      "metadata": {
        "id": "TYpizVgO3Krf"
      }
    },
    {
      "cell_type": "markdown",
      "source": [
        "# **Test for normality of residuals**"
      ],
      "metadata": {
        "id": "F66fjqdh3QiE"
      }
    },
    {
      "cell_type": "code",
      "source": [
        "import statsmodels.api as sm\n",
        "qqplot=sm.qqplot(model.resid,line='q') # line = 45 to draw the diagnoal line\n",
        "plt.title(\"Normal Q-Q plot of residuals\")\n",
        "plt.show()"
      ],
      "metadata": {
        "id": "-YiG9lK22hiY"
      },
      "execution_count": null,
      "outputs": []
    },
    {
      "cell_type": "code",
      "source": [
        "list(np.where(model.resid>6000))"
      ],
      "metadata": {
        "id": "WEGLFuro5bpg"
      },
      "execution_count": null,
      "outputs": []
    },
    {
      "cell_type": "code",
      "source": [
        "list(np.where(model.resid<-7000))"
      ],
      "metadata": {
        "id": "fthBa0Or5stI"
      },
      "execution_count": null,
      "outputs": []
    },
    {
      "cell_type": "markdown",
      "source": [
        "# **Residual plot for homoscedascity**"
      ],
      "metadata": {
        "id": "pNnK2VppBRFy"
      }
    },
    {
      "cell_type": "code",
      "source": [
        "def get_standardized_values( vals ):\n",
        "    return (vals - vals.mean())/vals.std()"
      ],
      "metadata": {
        "id": "VjtD-cyt670v"
      },
      "execution_count": null,
      "outputs": []
    },
    {
      "cell_type": "code",
      "source": [
        "plt.scatter(get_standardized_values(model.fittedvalues),\n",
        "            get_standardized_values(model.resid))\n",
        "\n",
        "plt.title('Residual Plot')\n",
        "plt.xlabel('Standardized Fitted values')\n",
        "plt.ylabel('Standardized residual values')\n",
        "plt.show()"
      ],
      "metadata": {
        "id": "HC9b-FGGBfgc"
      },
      "execution_count": null,
      "outputs": []
    },
    {
      "cell_type": "markdown",
      "source": [
        "# Resudual vs Regressors"
      ],
      "metadata": {
        "id": "JgXwKd2aB1Dg"
      }
    },
    {
      "cell_type": "code",
      "source": [
        "fig = plt.figure(figsize=(15,8))\n",
        "fig = sm.graphics.plot_regress_exog(model, \"Age_08_04\", fig=fig)\n",
        "plt.show()"
      ],
      "metadata": {
        "id": "6uwk4OUFB0Un"
      },
      "execution_count": null,
      "outputs": []
    },
    {
      "cell_type": "code",
      "source": [
        "fig = plt.figure(figsize=(15,8))\n",
        "fig = sm.graphics.plot_regress_exog(model, \"HP\", fig=fig)\n",
        "plt.show()"
      ],
      "metadata": {
        "id": "eXlV4z8_CtW4"
      },
      "execution_count": null,
      "outputs": []
    },
    {
      "cell_type": "code",
      "source": [
        "fig = plt.figure(figsize=(15,8))\n",
        "fig = sm.graphics.plot_regress_exog(model, \"KM\", fig=fig)\n",
        "plt.show()"
      ],
      "metadata": {
        "id": "q06fPJGmDIGs"
      },
      "execution_count": null,
      "outputs": []
    },
    {
      "cell_type": "code",
      "source": [
        "fig = plt.figure(figsize=(15,8))\n",
        "fig = sm.graphics.plot_regress_exog(model, \"Doors\", fig=fig)\n",
        "plt.show()"
      ],
      "metadata": {
        "id": "jELEj3YADM-1"
      },
      "execution_count": null,
      "outputs": []
    },
    {
      "cell_type": "code",
      "source": [
        "fig = plt.figure(figsize=(15,8))\n",
        "fig = sm.graphics.plot_regress_exog(model, \"Weight\", fig=fig)\n",
        "plt.show()"
      ],
      "metadata": {
        "id": "nbkHwzRbDQ8_"
      },
      "execution_count": null,
      "outputs": []
    },
    {
      "cell_type": "code",
      "source": [
        "fig = plt.figure(figsize=(15,8))\n",
        "fig = sm.graphics.plot_regress_exog(model, \"Gears\", fig=fig)\n",
        "plt.show()"
      ],
      "metadata": {
        "id": "esbyPNqBDUJ5"
      },
      "execution_count": null,
      "outputs": []
    },
    {
      "cell_type": "markdown",
      "source": [
        "# **Model Deletion Diagnostics**"
      ],
      "metadata": {
        "id": "KTJuvoHUD81x"
      }
    },
    {
      "cell_type": "markdown",
      "source": [
        "# **Detecting influencers or outliers**"
      ],
      "metadata": {
        "id": "1P5MJmPZEBxW"
      }
    },
    {
      "cell_type": "markdown",
      "source": [
        "# **Cook's Distance**"
      ],
      "metadata": {
        "id": "v0ifSutwEJ2H"
      }
    },
    {
      "cell_type": "code",
      "source": [
        "model_influence = model.get_influence()\n",
        "(c, _) = model_influence.cooks_distance"
      ],
      "metadata": {
        "id": "aCdnwdBkDYlO"
      },
      "execution_count": null,
      "outputs": []
    },
    {
      "cell_type": "code",
      "source": [
        "#Plot the influencers values using stem plot\n",
        "fig = plt.subplots(figsize=(20, 7))\n",
        "plt.stem(np.arange(len(cars)), np.round(c, 3))\n",
        "plt.xlabel('Row index')\n",
        "plt.ylabel('Cooks Distance')\n",
        "plt.show()"
      ],
      "metadata": {
        "id": "6Tz9aU3dEP_e"
      },
      "execution_count": null,
      "outputs": []
    },
    {
      "cell_type": "code",
      "source": [
        "##index and value of influencer where c is more than .5\n",
        "(np.argmax(c),np.max(c))"
      ],
      "metadata": {
        "id": "9mKO9NtDEUms"
      },
      "execution_count": null,
      "outputs": []
    },
    {
      "cell_type": "markdown",
      "source": [
        "#High influence points"
      ],
      "metadata": {
        "id": "blybYx1OE0Qn"
      }
    },
    {
      "cell_type": "code",
      "source": [
        "from statsmodels.graphics.regressionplots import influence_plot\n",
        "influence_plot(model)\n",
        "plt.show()"
      ],
      "metadata": {
        "id": "cRq602h7EpOV"
      },
      "execution_count": null,
      "outputs": []
    },
    {
      "cell_type": "code",
      "source": [
        "k = cars.shape[1]\n",
        "n = cars.shape[0]\n",
        "leverage_cutoff = 3*((k + 1)/n)"
      ],
      "metadata": {
        "id": "gBjzAc8FFMot"
      },
      "execution_count": null,
      "outputs": []
    },
    {
      "cell_type": "markdown",
      "source": [
        "# **From the above plot,it is evident that data point is 221 and 960**"
      ],
      "metadata": {
        "id": "SHc0XyABhIJA"
      }
    },
    {
      "cell_type": "code",
      "source": [
        "cars[cars.index.isin([221,960])]"
      ],
      "metadata": {
        "id": "nCaf6XBzFN3j"
      },
      "execution_count": null,
      "outputs": []
    },
    {
      "cell_type": "code",
      "source": [
        "#See the differences in HP and other variable values\n",
        "cars.head()"
      ],
      "metadata": {
        "id": "sDOVlCoYh42_"
      },
      "execution_count": null,
      "outputs": []
    },
    {
      "cell_type": "code",
      "source": [
        "#Load the data\n",
        "cars_new = pd.read_csv(\"Toyoto_Corrola.csv\")"
      ],
      "metadata": {
        "id": "fcsYhhcjiCBI"
      },
      "execution_count": null,
      "outputs": []
    },
    {
      "cell_type": "code",
      "source": [
        "#Discard the data points which are influencers and reasign the row number (reset_index())\n",
        "car1=cars_new.drop(cars_new.index[[221,960]],axis=0).reset_index()"
      ],
      "metadata": {
        "id": "Vs-AyLQuizt5"
      },
      "execution_count": null,
      "outputs": []
    },
    {
      "cell_type": "code",
      "source": [
        "car1"
      ],
      "metadata": {
        "id": "SOJ9kGzHjHQA"
      },
      "execution_count": null,
      "outputs": []
    },
    {
      "cell_type": "code",
      "source": [
        "#Exclude variable \"WT\" and generate R-Squared and AIC values\n",
        "final_ml_P= smf.ols('Price~KM+HP+Weight+Age_08_04+Gears+Doors',data = cars).fit()"
      ],
      "metadata": {
        "id": "dz3poFh0jKb5"
      },
      "execution_count": null,
      "outputs": []
    },
    {
      "cell_type": "code",
      "source": [
        "(final_ml_P.rsquared,final_ml_P.aic,final_ml_P.bic)"
      ],
      "metadata": {
        "id": "osZF5SSxkMxv"
      },
      "execution_count": null,
      "outputs": []
    },
    {
      "cell_type": "markdown",
      "source": [
        "Cook's Distance"
      ],
      "metadata": {
        "id": "MeAFdfRck93U"
      }
    },
    {
      "cell_type": "code",
      "source": [
        "model_influence_P = final_ml_P.get_influence()\n",
        "(c, _) = model_influence_P.cooks_distance"
      ],
      "metadata": {
        "id": "RIwVi17gkUKC"
      },
      "execution_count": null,
      "outputs": []
    },
    {
      "cell_type": "code",
      "source": [
        "fig= plt.subplots(figsize=(20,7))\n",
        "plt.stem(np.arange(len(car1)),np.round(c,3));\n",
        "plt.xlabel('Row index')\n",
        "plt.ylabel('Cooks Distance')"
      ],
      "metadata": {
        "id": "-do_9I5wlWCt"
      },
      "execution_count": null,
      "outputs": []
    },
    {
      "cell_type": "code",
      "source": [],
      "metadata": {
        "id": "FbUPCofRleIz"
      },
      "execution_count": null,
      "outputs": []
    }
  ]
}