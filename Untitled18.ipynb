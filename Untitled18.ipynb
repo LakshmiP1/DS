{
  "nbformat": 4,
  "nbformat_minor": 0,
  "metadata": {
    "colab": {
      "provenance": [],
      "authorship_tag": "ABX9TyNVkVKquQocbNktPngsYR51",
      "include_colab_link": true
    },
    "kernelspec": {
      "name": "python3",
      "display_name": "Python 3"
    },
    "language_info": {
      "name": "python"
    }
  },
  "cells": [
    {
      "cell_type": "markdown",
      "metadata": {
        "id": "view-in-github",
        "colab_type": "text"
      },
      "source": [
        "<a href=\"https://colab.research.google.com/github/LakshmiP1/DS/blob/main/Untitled18.ipynb\" target=\"_parent\"><img src=\"https://colab.research.google.com/assets/colab-badge.svg\" alt=\"Open In Colab\"/></a>"
      ]
    },
    {
      "cell_type": "code",
      "execution_count": null,
      "metadata": {
        "id": "_lAIvQwwEfxJ"
      },
      "outputs": [],
      "source": [
        "import pandas as pd\n",
        "import statsmodels.formula.api as sms\n",
        "wcat=pd.read_csv(\"WC_AT.csv\")"
      ]
    },
    {
      "cell_type": "code",
      "source": [
        "wcat.head()"
      ],
      "metadata": {
        "id": "SZjosOHSE7Iq"
      },
      "execution_count": null,
      "outputs": []
    },
    {
      "cell_type": "code",
      "source": [
        "# To identify the correlation coefficient for the dependent and independent variable\n",
        "wcat.corr()"
      ],
      "metadata": {
        "id": "Dz7whzYIFC5L"
      },
      "execution_count": null,
      "outputs": []
    },
    {
      "cell_type": "code",
      "source": [
        "import seaborn as sns\n",
        "sns.regplot(x='Waist',y='AT',data=wcat)"
      ],
      "metadata": {
        "id": "2_trzi9OFHTp"
      },
      "execution_count": null,
      "outputs": []
    },
    {
      "cell_type": "code",
      "source": [
        "#fitting a linear regression model\n",
        "model=sms.ols(\"AT~Waist\",data=wcat).fit()"
      ],
      "metadata": {
        "id": "mcOAmxonFjPO"
      },
      "execution_count": null,
      "outputs": []
    },
    {
      "cell_type": "code",
      "source": [
        "model.params"
      ],
      "metadata": {
        "id": "TP0-VuMuGY0p"
      },
      "execution_count": null,
      "outputs": []
    },
    {
      "cell_type": "code",
      "source": [
        "print(model.tvalues,\"\\n\",model.pvalues)"
      ],
      "metadata": {
        "id": "QK7O0irgGa6N"
      },
      "execution_count": null,
      "outputs": []
    },
    {
      "cell_type": "code",
      "source": [
        "# Predicting new data\n",
        "new_pred=pd.Series([40,75,120])\n",
        "newdata=pd.DataFrame(new_pred,columns=['Waist'])\n",
        "model.predict(newdata)"
      ],
      "metadata": {
        "id": "JXb-4VYNGlsA"
      },
      "execution_count": null,
      "outputs": []
    },
    {
      "cell_type": "code",
      "source": [],
      "metadata": {
        "id": "JD1DB0U6G3ou"
      },
      "execution_count": null,
      "outputs": []
    }
  ]
}